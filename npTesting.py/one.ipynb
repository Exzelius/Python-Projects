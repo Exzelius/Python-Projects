{
 "cells": [
  {
   "cell_type": "code",
   "execution_count": 18,
   "metadata": {},
   "outputs": [
    {
     "name": "stdout",
     "output_type": "stream",
     "text": [
      "[[1]\n",
      " [2]\n",
      " [3]] (3, 1) [[1 2 3]] (1, 3)\n",
      "[[1 2 3]\n",
      " [2 4 6]\n",
      " [3 6 9]]\n"
     ]
    }
   ],
   "source": [
    "import numpy as np\n",
    "\n",
    "a = np.arange(3) + 1\n",
    "a=a.reshape(3,1)\n",
    "b = np.arange(3) + 1\n",
    "b=b.reshape(1,3)\n",
    "\n",
    "print(a,a.shape,b,b.shape)\n",
    "\n",
    "c = a @ b\n",
    "\n",
    "print(c)"
   ]
  },
  {
   "cell_type": "code",
   "execution_count": 19,
   "metadata": {},
   "outputs": [
    {
     "name": "stdout",
     "output_type": "stream",
     "text": [
      "[[ 5.]\n",
      " [ 2.]\n",
      " [-1.]] 1\n"
     ]
    }
   ],
   "source": [
    "a = np.array([[3,3],[3,5]])\n",
    "b = np.array([[6],[0]])\n",
    "bt = np.array([[1,1,1],[0,1,2]])\n",
    "c = bt.T @ np.linalg.inv(a) @ bt @ np.array([[6],[0],[0]])\n",
    "\n",
    "print(c,np.linalg.matrix_rank(c))"
   ]
  },
  {
   "cell_type": "code",
   "execution_count": 20,
   "metadata": {},
   "outputs": [
    {
     "name": "stdout",
     "output_type": "stream",
     "text": [
      "[[ 5.]\n",
      " [ 2.]\n",
      " [-1.]] 1\n"
     ]
    }
   ],
   "source": [
    "x = np.array([[6],[0],[0]])\n",
    "B = np.array([[1,0],[1,1],[1,2]])\n",
    "pix = B @ np.linalg.inv(B.T @ B) @ B.T @ x\n",
    "\n",
    "print(pix,np.linalg.matrix_rank(pix))"
   ]
  },
  {
   "cell_type": "code",
   "execution_count": 21,
   "metadata": {},
   "outputs": [
    {
     "name": "stdout",
     "output_type": "stream",
     "text": [
      "6.0\n"
     ]
    }
   ],
   "source": [
    "print(np.linalg.norm(x))"
   ]
  },
  {
   "cell_type": "code",
   "execution_count": 1,
   "metadata": {},
   "outputs": [
    {
     "name": "stdout",
     "output_type": "stream",
     "text": [
      "['Maegan', 'Ivy', 'Kester', 'Kirstin', 'Kaan']\n"
     ]
    }
   ],
   "source": [
    "def solution(laps):\n",
    "    eliminated = []  # To store the order of eliminated racers\n",
    "    remaining_racers = set()  # To keep track of eliminated racers\n",
    "    \n",
    "    # Process each lap\n",
    "    for lap in laps:\n",
    "        # Split each lap into (name, time) pairs\n",
    "        lap_times = [(entry.split()[0], int(entry.split()[1])) for entry in lap if entry.split()[0] not in remaining_racers]\n",
    "        \n",
    "        if not lap_times:\n",
    "            continue  # If all racers are already eliminated, skip this lap\n",
    "        \n",
    "        # Sort by time (highest first) and alphabetically in case of ties\n",
    "        lap_times.sort(key=lambda x: (-x[1], x[0]))\n",
    "\n",
    "        # Get the slowest time from the sorted list\n",
    "        slowest_time = lap_times[0][1]\n",
    "\n",
    "        # Find all drivers with the slowest time\n",
    "        slowest_drivers = [driver for driver, time in lap_times if time == slowest_time]\n",
    "        \n",
    "        # Sort slowest drivers alphabetically\n",
    "        slowest_drivers.sort()\n",
    "\n",
    "        # Add slowest drivers to the elimination list and update the set of eliminated racers\n",
    "        for driver in slowest_drivers:\n",
    "            if driver not in remaining_racers:\n",
    "                eliminated.append(driver)\n",
    "                remaining_racers.add(driver)\n",
    "\n",
    "    return eliminated\n",
    "\n",
    "def solution(laps):\n",
    "    eliminated = []  # To store the order of eliminated racers\n",
    "    remaining_racers = set()  # To keep track of eliminated racers\n",
    "    \n",
    "    # Process each lap\n",
    "    for lap in laps:\n",
    "        # Split each lap into (name, time) pairs\n",
    "        lap_times = [(entry.split()[0], int(entry.split()[1])) for entry in lap if entry.split()[0] not in remaining_racers]\n",
    "        \n",
    "        if not lap_times:\n",
    "            continue  # If all racers are already eliminated, skip this lap\n",
    "        \n",
    "        # Sort by time (highest first) and alphabetically in case of ties\n",
    "        lap_times.sort(key=lambda x: (-x[1], x[0]))\n",
    "\n",
    "        # Get the slowest time from the sorted list\n",
    "        slowest_time = lap_times[0][1]\n",
    "\n",
    "        # Find all drivers with the slowest time\n",
    "        slowest_drivers = [driver for driver, time in lap_times if time == slowest_time]\n",
    "        \n",
    "        # Sort slowest drivers alphabetically\n",
    "        slowest_drivers.sort()\n",
    "\n",
    "        # Add slowest drivers to the elimination list and update the set of eliminated racers\n",
    "        for driver in slowest_drivers:\n",
    "            if driver not in remaining_racers:\n",
    "                eliminated.append(driver)\n",
    "                remaining_racers.add(driver)\n",
    "\n",
    "    return eliminated\n",
    "\n",
    "laps = [\n",
    "    [\"Ivy 100\",\"Kester 104\",\"Kaan 121\",\"Kirstin 135\",\"Maegan 136\"], \n",
    "    [\"Kester 105\",\"Kaan 119\",\"Kirstin 141\",\"Maegan 142\",\"Ivy 149\"], \n",
    "    [\"Kirstin 100\",\"Ivy 110\",\"Maegan 132\",\"Kaan 132\",\"Kester 144\"], \n",
    "    [\"Kaan 106\",\"Maegan 106\",\"Kirstin 117\",\"Kester 124\",\"Ivy 126\"], \n",
    "    [\"Kester 106\",\"Kirstin 108\",\"Ivy 119\",\"Kaan 124\",\"Maegan 135\"]\n",
    "]\n",
    "\n",
    "print(solution(laps))\n",
    "\n"
   ]
  },
  {
   "cell_type": "code",
   "execution_count": 8,
   "metadata": {},
   "outputs": [
    {
     "name": "stdout",
     "output_type": "stream",
     "text": [
      "[0. 0. 0. 0. 0. 1. 1. 1. 1. 1.]\n"
     ]
    }
   ],
   "source": [
    "import numpy as np\n",
    "\n",
    "list = [0,1,2,3,4,5,6,7,8,9]\n",
    "list = np.array(list)\n",
    "print((list>=5).astype(float))"
   ]
  },
  {
   "cell_type": "code",
   "execution_count": 10,
   "metadata": {},
   "outputs": [
    {
     "name": "stdout",
     "output_type": "stream",
     "text": [
      "0 1\n",
      "0 2\n",
      "0 3\n",
      "1 2\n",
      "1 3\n",
      "2 3\n"
     ]
    }
   ],
   "source": [
    "from itertools import combinations\n",
    "for i,j in combinations(range(4),2):\n",
    "    print(i,j)"
   ]
  },
  {
   "cell_type": "code",
   "execution_count": 2,
   "metadata": {},
   "outputs": [
    {
     "name": "stdout",
     "output_type": "stream",
     "text": [
      "[1, 2, 3, 3, 6, 6, 8, 8] [3, 6, 8, 3, 2, 1, 6, 8]\n",
      "[1, 2, 3, 3, 6, 6, 8, 8] [1, 2, 3, 3, 6, 6, 8, 8]\n"
     ]
    }
   ],
   "source": [
    "list = [3,6,8,3,2,1,6,8]\n",
    "\n",
    "\n",
    "a=sorted(list)\n",
    "print(a,list)\n",
    "list.sort()\n",
    "print(a,list)"
   ]
  },
  {
   "cell_type": "code",
   "execution_count": null,
   "metadata": {},
   "outputs": [],
   "source": [
    "def solution(numbers):\n",
    "    sol=[]\n",
    "    for i in range(0,len(numbers)-2):\n",
    "        if numbers[i]<numbers[i+1] and numbers[i+2]<numbers[i+1] or numbers[i]>numbers[i+1] and numbers[i+2]>numbers[i+1]:\n",
    "            sol[i]=1\n",
    "        else: \n",
    "            sol[i]=0\n",
    "    return sol"
   ]
  },
  {
   "cell_type": "code",
   "execution_count": 23,
   "metadata": {},
   "outputs": [
    {
     "name": "stdout",
     "output_type": "stream",
     "text": [
      "Enter the elements for kValues\n",
      "[4, 3]\n"
     ]
    }
   ],
   "source": [
    "def getMinOperations(kValues):\n",
    "    \n",
    "    # minOps = [0] * len(kValues)\n",
    "\n",
    "    # print(kValues)\n",
    "\n",
    "    # for i in kValues:\n",
    "    #     x = int(i)\n",
    "    #     # print(x) # each no needs +1 operation\n",
    "    #     count = 0\n",
    "    #     while x != 0:\n",
    "    #         print(x)\n",
    "    #         if x % 2 == 1: \n",
    "    #             x-=1\n",
    "    #             count+=1\n",
    "    #             if x == 0:\n",
    "    #                 break\n",
    "    #             print(x,count)\n",
    "    #         x/=2\n",
    "    #         count+=1\n",
    "    #         print(x,count)\n",
    "    #     minOps[kValues.index(i)]=count\n",
    "    # return minOps\n",
    "\n",
    "    def minOps(k):\n",
    "        count = 0\n",
    "        while k>0:\n",
    "            if k % 2 == 0:\n",
    "                k//=2\n",
    "            else:\n",
    "                k-=1\n",
    "            count+=1\n",
    "        return count\n",
    "    \n",
    "    return [minOps(k) for k in kValues]\n",
    "\n",
    "if __name__ == \"__main__\":\n",
    "    kValues=[]\n",
    "    n = int(input(\"Enter size of kValue Array\"))\n",
    "    print(\"Enter the elements for kValues\")\n",
    "    for i in range(n):\n",
    "        kValues.append(int(input()))\n",
    "\n",
    "    print(getMinOperations(kValues))"
   ]
  },
  {
   "cell_type": "code",
   "execution_count": 21,
   "metadata": {},
   "outputs": [
    {
     "name": "stdout",
     "output_type": "stream",
     "text": [
      "2\n"
     ]
    }
   ],
   "source": [
    "a = 4\n",
    "\n",
    "print(int(a//2))\n"
   ]
  },
  {
   "cell_type": "code",
   "execution_count": null,
   "metadata": {},
   "outputs": [],
   "source": [
    "# List of fruits to be used in fruit salad\n",
    "fruits = ['apple', 'banana', 'kiwi', 'mango']\n",
    "\n",
    "# TODO: Loop over the list of fruits and add them to the fruit salad with a print statement\n",
    "for fruit in fruits:\n",
    "    # TODO: Print a statement for adding each fruit to the fruit salad.\n",
    "    print(f\"Adding {fruit} to the salad.\")"
   ]
  }
 ],
 "metadata": {
  "kernelspec": {
   "display_name": "base",
   "language": "python",
   "name": "python3"
  },
  "language_info": {
   "codemirror_mode": {
    "name": "ipython",
    "version": 3
   },
   "file_extension": ".py",
   "mimetype": "text/x-python",
   "name": "python",
   "nbconvert_exporter": "python",
   "pygments_lexer": "ipython3",
   "version": "3.12.4"
  }
 },
 "nbformat": 4,
 "nbformat_minor": 2
}
